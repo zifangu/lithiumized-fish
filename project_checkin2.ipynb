{
 "cells": [
  {
   "cell_type": "code",
   "execution_count": 99,
   "metadata": {},
   "outputs": [],
   "source": [
    "from read_alignment import readAlignment\n",
    "import helperFxns_new as kim_helper\n",
    "import numpy as np\n",
    "import pandas as pd\n",
    "import matplotlib.pyplot as plt\n",
    "from Bio import SeqIO\n",
    "import seaborn as sns\n"
   ]
  },
  {
   "cell_type": "code",
   "execution_count": 100,
   "metadata": {},
   "outputs": [],
   "source": [
    "def rewrite_header_fasta(input_fasta, output_fasta):\n",
    "    with open(output_fasta, \"w\") as out_f:\n",
    "        for i, record in enumerate(SeqIO.parse(input_fasta, \"fasta\"), start=1):\n",
    "            record.id = f\"seq{i}\"\n",
    "            record.description = \"\"  # Remove any additional description\n",
    "            SeqIO.write(record, out_f, \"fasta\")\n",
    "\n",
    "    print(\"Headers updated successfully!\")\n",
    "\n",
    "\n",
    "\n",
    "def clean_fasta(input_file, output_file):\n",
    "    with open(input_file, 'r') as infile, open(output_file, 'w') as outfile:\n",
    "        fasta_dict = {}\n",
    "        header = None\n",
    "        for line in infile:\n",
    "            line = line.strip()  # Remove leading/trailing whitespace (including erroneous newlines)\n",
    "            if line.startswith(\">\"):  # New header\n",
    "                header = line\n",
    "                fasta_dict[header] = []\n",
    "            elif header:  # Sequence line\n",
    "                fasta_dict[header].append(line)\n",
    "\n",
    "        # Write cleaned FASTA\n",
    "        for header, seq_list in fasta_dict.items():\n",
    "            outfile.write(f\"{header}\\n{''.join(seq_list)}\\n\")  # Concatenated sequence in one line\n",
    "\n",
    "def compute_avg_seq_identity(smat):\n",
    "    num_sequences = smat.shape[0]\n",
    "\n",
    "    # Compute the average pairwise identity for each sequence\n",
    "    # sum up each row (i.e. along the columns), subtract from self-comparison, divide by total # of sequences\n",
    "    avg_identity = (smat.sum(axis=1) - np.diag(smat)) / (num_sequences - 1)\n",
    "\n",
    "    return avg_identity\n",
    "\n",
    "\n",
    "def plot_avg_seq_identity_histogram(smat, bins=50):\n",
    "    \"\"\" Given a sequence identity matrix, plot a histogram of the average pairwise sequence identity for each sequence. \"\"\"\n",
    "    num_sequences = smat.shape[0]\n",
    "\n",
    "    # Compute the average pairwise identity for each sequence\n",
    "    # sum up each row (i.e. along the columns), subtract from self-comparison, divide by total # of sequences\n",
    "    avg_identity = (smat.sum(axis=1) - np.diag(smat)) / (num_sequences - 1)\n",
    "\n",
    "    # Plot histogram\n",
    "    plt.figure(figsize=(8,6))\n",
    "    plt.hist(avg_identity, bins=bins, density=True, alpha=0.7, color='blue', edgecolor='black')\n",
    "    plt.xlabel(\"Average Pairwise Sequence Identity\")\n",
    "    plt.ylabel(\"Density\")\n",
    "    plt.title(\"Histogram of Average Pairwise Sequence Identity\")\n",
    "    plt.grid(axis='y', linestyle='--', alpha=0.6)\n",
    "    plt.show()\n"
   ]
  },
  {
   "cell_type": "code",
   "execution_count": 101,
   "metadata": {},
   "outputs": [
    {
     "name": "stdout",
     "output_type": "stream",
     "text": [
      "len of sequences: 970\n",
      "arr_num shape: (970, 2767)\n",
      "seq shape before filtering: (970, 2767)\n",
      "seq shape after filtering: (752, 437)\n"
     ]
    }
   ],
   "source": [
    "arr_seq = readAlignment('data/cleaned_serotonin_aligned.fasta')\n",
    "print('len of sequences:', len(arr_seq))\n",
    "\n",
    "# convert from array of string seq to numeric\n",
    "arr_num = kim_helper.lett2num(arr_seq, code='ACDEFGHIKLMNPQRSTVWY-')\n",
    "print('arr_num shape:', arr_num.shape)\n",
    "\n",
    "hd = np.arange(0, len(arr_num))\n",
    "print('seq shape before filtering:', arr_num.shape)\n",
    "hFilt, seqFilt = kim_helper.filterAln(hd, arr_num)\n",
    "print('seq shape after filtering:', seqFilt.shape)\n"
   ]
  },
  {
   "cell_type": "code",
   "execution_count": 102,
   "metadata": {},
   "outputs": [
    {
     "name": "stdout",
     "output_type": "stream",
     "text": [
      "one hot after filtering: (752, 9177)\n",
      "identity shape: (752, 752)\n"
     ]
    }
   ],
   "source": [
    "# compute the one-hot encoding again\n",
    "one_hot_filtered = kim_helper.alg2bin(seqFilt)\n",
    "print('one hot after filtering:', one_hot_filtered.shape)\n",
    "\n",
    "# compute the sequence identity matrix\n",
    "n_align_pos = seqFilt.shape[1] # seqFilt.shape = (num_seq, num_positions)\n",
    "identity_real = kim_helper.simMat(one_hot_filtered, n_align_pos)\n",
    "print('identity shape:', identity_real.shape)"
   ]
  },
  {
   "cell_type": "code",
   "execution_count": 103,
   "metadata": {},
   "outputs": [],
   "source": [
    "# print(one_hot_filtered)"
   ]
  },
  {
   "cell_type": "code",
   "execution_count": 104,
   "metadata": {},
   "outputs": [
    {
     "name": "stdout",
     "output_type": "stream",
     "text": [
      "[[0. 0. 0. 0. 0. 0. 0. 0. 0. 0.]\n",
      " [0. 0. 0. 0. 0. 0. 0. 0. 0. 0.]\n",
      " [0. 0. 0. 0. 0. 0. 0. 0. 0. 0.]\n",
      " [0. 0. 0. 0. 0. 0. 0. 0. 0. 0.]\n",
      " [0. 0. 0. 0. 0. 0. 0. 0. 0. 0.]\n",
      " [0. 0. 0. 0. 0. 0. 0. 0. 0. 0.]\n",
      " [0. 0. 0. 0. 0. 0. 0. 0. 0. 0.]\n",
      " [0. 0. 0. 0. 0. 0. 0. 0. 0. 0.]\n",
      " [0. 0. 0. 0. 0. 0. 0. 0. 0. 0.]\n",
      " [0. 0. 0. 0. 0. 0. 0. 0. 0. 0.]]\n"
     ]
    },
    {
     "data": {
      "text/plain": [
       "<matplotlib.image.AxesImage at 0x3215b4fa0>"
      ]
     },
     "execution_count": 104,
     "metadata": {},
     "output_type": "execute_result"
    },
    {
     "data": {
      "image/png": "[encoded data removed]",
      "text/plain": [
       "<Figure size 640x480 with 1 Axes>"
      ]
     },
     "metadata": {},
     "output_type": "display_data"
    }
   ],
   "source": [
    "\n",
    "def compute_lxl_cov(one_hot_matrix, L):\n",
    "    \"\"\"\n",
    "    Computes an L x L covariance matrix from a one-hot encoded matrix.\n",
    "    \n",
    "    Parameters:\n",
    "    one_hot_matrix : numpy array of shape (20*L, M)\n",
    "        One-hot encoded representation of M amino acid sequences of length L.\n",
    "    L : int\n",
    "        Sequence length.\n",
    "    \n",
    "    Returns:\n",
    "    C_lxl : numpy array of shape (L, L)\n",
    "        L x L covariance matrix capturing positional correlations.\n",
    "    \"\"\"\n",
    "    M = one_hot_matrix.shape[1]  # Number of sequences\n",
    "    \n",
    "    # Compute empirical frequency matrix\n",
    "    P = (one_hot_matrix @ one_hot_matrix.T) / M\n",
    "    \n",
    "    # Compute mean frequency\n",
    "    p = np.mean(one_hot_matrix, axis=1, keepdims=True)\n",
    "    \n",
    "    # Compute covariance matrix\n",
    "    C = P - p @ p.T\n",
    "    \n",
    "    # Reshape into L x L blocks of size 20x20\n",
    "    C_lxl = np.zeros((L, L))\n",
    "    for i in range(L):\n",
    "        for j in range(L):\n",
    "            C_block = C[i*21:(i+1)*21, j*21:(j+1)*21]\n",
    "            C_lxl[i, j] = np.linalg.norm(C_block, ord='fro')  # Frobenius norm\n",
    "            # cov_mat = np.cov(C_block)  # Frobenius norm\n",
    "            # print(np.mean(cov_mat))\n",
    "            # C_lxl[i, j] = np.mean(cov_mat)  # Frobenius norm\n",
    "\n",
    "    return C_lxl\n",
    "\n",
    "# Example usage\n",
    "L = 10  # Sequence length\n",
    "M = 100  # Number of sequences\n",
    "np.random.seed(42)\n",
    "one_hot_matrix = np.ones((20*L, M))\n",
    "#one_hot_matrix = np.random.randint(0, 2, size=(20*L, M))  # Simulated one-hot encoding\n",
    "C_lxl = compute_lxl_cov(one_hot_matrix, L)\n",
    "print(C_lxl)\n",
    "plt.imshow(C_lxl)"
   ]
  },
  {
   "cell_type": "code",
   "execution_count": 105,
   "metadata": {},
   "outputs": [
    {
     "name": "stdout",
     "output_type": "stream",
     "text": [
      "(200, 30)\n",
      "(200, 200)\n",
      "[[369.4 329.6 333.5 329.5 353.  361.4 364.9 311.9 356.8 159.8]\n",
      " [329.6 318.8 307.9 304.9 321.  332.6 336.  291.6 323.2 147.6]\n",
      " [333.5 307.9 323.4 308.6 331.  335.8 338.8 294.6 329.5 145.3]\n",
      " [329.5 304.9 308.6 311.  321.9 329.4 335.4 288.4 322.5 143.6]\n",
      " [353.  321.  331.  321.9 359.9 353.2 363.2 305.4 351.9 156.7]\n",
      " [361.4 332.6 335.8 329.4 353.2 371.  363.6 313.1 354.4 158.4]\n",
      " [364.9 336.  338.8 335.4 363.2 363.6 387.7 317.8 363.6 166.6]\n",
      " [311.9 291.6 294.6 288.4 305.4 313.1 317.8 288.5 311.5 140.8]\n",
      " [356.8 323.2 329.5 322.5 351.9 354.4 363.6 311.5 364.  160.5]\n",
      " [159.8 147.6 145.3 143.6 156.7 158.4 166.6 140.8 160.5  81.7]]\n"
     ]
    },
    {
     "data": {
      "text/plain": [
       "<matplotlib.image.AxesImage at 0x320c980d0>"
      ]
     },
     "execution_count": 105,
     "metadata": {},
     "output_type": "execute_result"
    },
    {
     "data": {
      "image/png": "[encoded data removed]",
      "text/plain": [
       "<Figure size 640x480 with 1 Axes>"
      ]
     },
     "metadata": {},
     "output_type": "display_data"
    }
   ],
   "source": [
    "\n",
    "def compute_lxl_cov(one_hot_matrix, L):\n",
    "    \"\"\"\n",
    "    Computes an L x L covariance matrix from a one-hot encoded matrix.\n",
    "    \n",
    "    Parameters:\n",
    "    one_hot_matrix : numpy array of shape (20*L, M)\n",
    "        One-hot encoded representation of M amino acid sequences of length L.\n",
    "    L : int\n",
    "        Sequence length.\n",
    "    \n",
    "    Returns:\n",
    "    C_lxl : numpy array of shape (L, L)\n",
    "        L x L covariance matrix capturing positional correlations.\n",
    "    \"\"\"\n",
    "    M = one_hot_matrix.shape[1]  # Number of sequences\n",
    "    \n",
    "    # Compute empirical frequency matrix\n",
    "    #S = (1/L)*(one_hot_matrix @ one_hot_matrix.T)\n",
    "    #print(S.shape)\n",
    "\n",
    "    C = (1/L)*(one_hot_matrix @ one_hot_matrix.T)\n",
    "    print(C.shape)\n",
    "    \n",
    "    # Compute mean frequency\n",
    "    #p = np.mean(one_hot_matrix, axis=1, keepdims=True)\n",
    "    # print(p.shape)\n",
    "    \n",
    "    # Compute covariance matrix\n",
    "    #C = P - p @ p.T\n",
    "    \n",
    "    # Reshape into L x L blocks of size 20x20\n",
    "    C_lxl = np.zeros((L, L))\n",
    "    for i in range(L):\n",
    "        for j in range(L):\n",
    "            C_block = C[i*21:(i+1)*21, j*21:(j+1)*21]\n",
    "            #print('c block;:', C_block)\n",
    "            #print('I:', i, 'J:', j, 'cov:', np.sum(C_block))\n",
    "            C_lxl[i, j] = np.sum(C_block)  # Frobenius norm\n",
    "            # C_lxl[i, j] = np.linalg.norm(C_block, ord='fro')\n",
    "            # cov_mat = np.cov(C_block)  # Frobenius norm\n",
    "            # print(np.mean(cov_mat))\n",
    "            # C_lxl[i, j] = np.mean(cov_mat)  # Frobenius norm\n",
    "\n",
    "    return C_lxl\n",
    "\n",
    "# Example usage\n",
    "L = 10  # Sequence length\n",
    "M = 30  # Number of sequences\n",
    "np.random.seed(42)\n",
    "#one_hot_matrix = np.ones((21*L, M))\n",
    "one_hot_matrix = np.random.randint(0, 2, size=(20*L, M))  # Simulated one-hot encoding\n",
    "print(one_hot_matrix.shape)\n",
    "C_lxl = compute_lxl_cov(one_hot_matrix, L)\n",
    "print(C_lxl)\n",
    "plt.imshow(C_lxl)"
   ]
  },
  {
   "cell_type": "code",
   "execution_count": 106,
   "metadata": {},
   "outputs": [
    {
     "name": "stdout",
     "output_type": "stream",
     "text": [
      "one hot after filtering: (752, 9177)\n",
      "(752, 752)\n"
     ]
    }
   ],
   "source": [
    "print('one hot after filtering:', one_hot_filtered.shape)\n",
    "one_hot_filtered_np = one_hot_filtered.toarray()\n",
    "L = int(one_hot_filtered_np.shape[1] / 21)\n",
    "C_lxl = compute_lxl_cov(one_hot_filtered_np, L)\n"
   ]
  },
  {
   "cell_type": "code",
   "execution_count": 107,
   "metadata": {},
   "outputs": [
    {
     "data": {
      "text/plain": [
       "<matplotlib.image.AxesImage at 0x32109ed60>"
      ]
     },
     "execution_count": 107,
     "metadata": {},
     "output_type": "execute_result"
    },
    {
     "data": {
      "image/png": "[encoded data removed]",
      "text/plain": [
       "<Figure size 640x480 with 1 Axes>"
      ]
     },
     "metadata": {},
     "output_type": "display_data"
    }
   ],
   "source": [
    "plt.imshow(C_lxl)"
   ]
  },
  {
   "cell_type": "markdown",
   "metadata": {},
   "source": [
    "# simulated seq"
   ]
  },
  {
   "cell_type": "code",
   "execution_count": 108,
   "metadata": {},
   "outputs": [
    {
     "name": "stdout",
     "output_type": "stream",
     "text": [
      "len of sequences: 100\n",
      "arr_num shape: (100, 399)\n",
      "seq shape before filtering: (100, 399)\n",
      "seq shape after filtering: (100, 389)\n",
      "one hot after filtering: (100, 8169)\n",
      "identity shape: (100, 100)\n"
     ]
    }
   ],
   "source": [
    "arr_seq = readAlignment('data/cleaned_synthetic_serotonin_aligned.fasta')\n",
    "print('len of sequences:', len(arr_seq))\n",
    "\n",
    "# convert from array of string seq to numeric\n",
    "arr_num = kim_helper.lett2num(arr_seq, code='ACDEFGHIKLMNPQRSTVWY-')\n",
    "print('arr_num shape:', arr_num.shape)\n",
    "\n",
    "hd = np.arange(0, len(arr_num))\n",
    "print('seq shape before filtering:', arr_num.shape)\n",
    "hFilt, seqFilt = kim_helper.filterAln(hd, arr_num)\n",
    "print('seq shape after filtering:', seqFilt.shape)\n",
    "\n",
    "# compute the one-hot encoding again\n",
    "one_hot_filtered = kim_helper.alg2bin(seqFilt)\n",
    "print('one hot after filtering:', one_hot_filtered.shape)\n",
    "\n",
    "# compute the sequence identity matrix\n",
    "n_align_pos = seqFilt.shape[1] # seqFilt.shape = (num_seq, num_positions)\n",
    "identity_mpnn = kim_helper.simMat(one_hot_filtered, n_align_pos)\n",
    "print('identity shape:', identity_mpnn.shape)"
   ]
  },
  {
   "cell_type": "code",
   "execution_count": 109,
   "metadata": {},
   "outputs": [
    {
     "name": "stdout",
     "output_type": "stream",
     "text": [
      "one hot after filtering: (100, 8169)\n",
      "(100, 100)\n"
     ]
    },
    {
     "data": {
      "text/plain": [
       "<matplotlib.image.AxesImage at 0x3216c1cd0>"
      ]
     },
     "execution_count": 109,
     "metadata": {},
     "output_type": "execute_result"
    },
    {
     "data": {
      "image/png": "[encoded data removed]",
      "text/plain": [
       "<Figure size 640x480 with 1 Axes>"
      ]
     },
     "metadata": {},
     "output_type": "display_data"
    }
   ],
   "source": [
    "print('one hot after filtering:', one_hot_filtered.shape)\n",
    "one_hot_filtered_np = one_hot_filtered.toarray()\n",
    "L = int(one_hot_filtered_np.shape[1] / 21)\n",
    "C_lxl = compute_lxl_cov(one_hot_filtered_np, L)\n",
    "\n",
    "plt.imshow(C_lxl)"
   ]
  },
  {
   "cell_type": "code",
   "execution_count": 110,
   "metadata": {},
   "outputs": [
    {
     "data": {
      "text/plain": [
       "(array([[384.,   0.,   0., ...,   0.,   0.,   1.],\n",
       "        [384.,   0.,   0., ...,   1.,   0.,   1.],\n",
       "        [384.,   0.,   0., ...,   1.,   0.,   1.],\n",
       "        ...,\n",
       "        [389.,   0.,   0., ...,   0.,   0.,   0.],\n",
       "        [389.,   0.,   0., ...,   0.,   0.,   0.],\n",
       "        [389.,   0.,   0., ...,   0.,   0.,   0.]]),\n",
       " array([  0.        ,  23.07943445,  46.15886889,  69.23830334,\n",
       "         92.31773779, 115.39717224, 138.47660668, 161.55604113,\n",
       "        184.63547558, 207.71491003, 230.79434447]),\n",
       " <a list of 389 BarContainer objects>)"
      ]
     },
     "execution_count": 110,
     "metadata": {},
     "output_type": "execute_result"
    },
    {
     "data": {
      "image/png": "[encoded data removed]",
      "text/plain": [
       "<Figure size 640x480 with 1 Axes>"
      ]
     },
     "metadata": {},
     "output_type": "display_data"
    }
   ],
   "source": [
    "plt.hist(C_lxl)"
   ]
  },
  {
   "cell_type": "code",
   "execution_count": 111,
   "metadata": {},
   "outputs": [
    {
     "data": {
      "text/plain": [
       "(389, 389)"
      ]
     },
     "execution_count": 111,
     "metadata": {},
     "output_type": "execute_result"
    }
   ],
   "source": [
    "C_lxl.shape"
   ]
  },
  {
   "cell_type": "code",
   "execution_count": 112,
   "metadata": {},
   "outputs": [
    {
     "data": {
      "text/plain": [
       "array([[230.79434447, 151.81233933, 126.40359897, ...,   0.        ,\n",
       "          0.        ,   0.        ],\n",
       "       [151.81233933, 207.92030848, 173.18251928, ...,   0.        ,\n",
       "          0.        ,   0.        ],\n",
       "       [126.40359897, 173.18251928, 227.62724936, ...,   0.        ,\n",
       "          0.        ,   0.        ],\n",
       "       ...,\n",
       "       [  0.        ,   0.        ,   0.        , ...,   0.        ,\n",
       "          0.        ,   0.        ],\n",
       "       [  0.        ,   0.        ,   0.        , ...,   0.        ,\n",
       "          0.        ,   0.        ],\n",
       "       [  0.        ,   0.        ,   0.        , ...,   0.        ,\n",
       "          0.        ,   0.        ]])"
      ]
     },
     "execution_count": 112,
     "metadata": {},
     "output_type": "execute_result"
    }
   ],
   "source": [
    "C_lxl"
   ]
  },
  {
   "cell_type": "code",
   "execution_count": null,
   "metadata": {},
   "outputs": [],
   "source": []
  },
  {
   "cell_type": "code",
   "execution_count": null,
   "metadata": {},
   "outputs": [],
   "source": []
  }
 ],
 "metadata": {
  "kernelspec": {
   "display_name": "mfqb",
   "language": "python",
   "name": "python3"
  },
  "language_info": {
   "codemirror_mode": {
    "name": "ipython",
    "version": 3
   },
   "file_extension": ".py",
   "mimetype": "text/x-python",
   "name": "python",
   "nbconvert_exporter": "python",
   "pygments_lexer": "ipython3",
   "version": "3.9.20"
  }
 },
 "nbformat": 4,
 "nbformat_minor": 2
}
